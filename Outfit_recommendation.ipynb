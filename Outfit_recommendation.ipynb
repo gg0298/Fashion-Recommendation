{
  "cells": [
    {
      "cell_type": "code",
      "execution_count": 1,
      "metadata": {
        "execution": {
          "iopub.execute_input": "2024-03-08T14:14:52.932213Z",
          "iopub.status.busy": "2024-03-08T14:14:52.931638Z",
          "iopub.status.idle": "2024-03-08T14:15:20.956460Z",
          "shell.execute_reply": "2024-03-08T14:15:20.955663Z",
          "shell.execute_reply.started": "2024-03-08T14:14:52.932185Z"
        },
        "trusted": true,
        "id": "D9VAwmY-aIb5"
      },
      "outputs": [],
      "source": [
        "import transformers.models.clip.image_processing_clip"
      ]
    },
    {
      "cell_type": "code",
      "execution_count": 1,
      "metadata": {
        "id": "KIIAGuodaIb7"
      },
      "outputs": [],
      "source": []
    },
    {
      "cell_type": "code",
      "execution_count": 2,
      "metadata": {
        "execution": {
          "iopub.execute_input": "2024-03-08T14:15:20.959157Z",
          "iopub.status.busy": "2024-03-08T14:15:20.958459Z",
          "iopub.status.idle": "2024-03-08T14:16:30.621351Z",
          "shell.execute_reply": "2024-03-08T14:16:30.620148Z",
          "shell.execute_reply.started": "2024-03-08T14:15:20.959122Z"
        },
        "scrolled": true,
        "trusted": true,
        "colab": {
          "base_uri": "https://localhost:8080/"
        },
        "id": "71JThrE2aIb7",
        "outputId": "64b95302-239b-4701-c1aa-209262e1855d"
      },
      "outputs": [
        {
          "output_type": "stream",
          "name": "stdout",
          "text": [
            "Requirement already satisfied: langchain in /usr/local/lib/python3.11/dist-packages (0.3.15)\n",
            "Requirement already satisfied: PyYAML>=5.3 in /usr/local/lib/python3.11/dist-packages (from langchain) (6.0.2)\n",
            "Requirement already satisfied: SQLAlchemy<3,>=1.4 in /usr/local/lib/python3.11/dist-packages (from langchain) (2.0.37)\n",
            "Requirement already satisfied: aiohttp<4.0.0,>=3.8.3 in /usr/local/lib/python3.11/dist-packages (from langchain) (3.11.11)\n",
            "Requirement already satisfied: langchain-core<0.4.0,>=0.3.31 in /usr/local/lib/python3.11/dist-packages (from langchain) (0.3.31)\n",
            "Requirement already satisfied: langchain-text-splitters<0.4.0,>=0.3.3 in /usr/local/lib/python3.11/dist-packages (from langchain) (0.3.5)\n",
            "Requirement already satisfied: langsmith<0.4,>=0.1.17 in /usr/local/lib/python3.11/dist-packages (from langchain) (0.3.1)\n",
            "Requirement already satisfied: numpy<2,>=1.22.4 in /usr/local/lib/python3.11/dist-packages (from langchain) (1.26.4)\n",
            "Requirement already satisfied: pydantic<3.0.0,>=2.7.4 in /usr/local/lib/python3.11/dist-packages (from langchain) (2.10.5)\n",
            "Requirement already satisfied: requests<3,>=2 in /usr/local/lib/python3.11/dist-packages (from langchain) (2.32.3)\n",
            "Requirement already satisfied: tenacity!=8.4.0,<10,>=8.1.0 in /usr/local/lib/python3.11/dist-packages (from langchain) (9.0.0)\n",
            "Requirement already satisfied: aiohappyeyeballs>=2.3.0 in /usr/local/lib/python3.11/dist-packages (from aiohttp<4.0.0,>=3.8.3->langchain) (2.4.4)\n",
            "Requirement already satisfied: aiosignal>=1.1.2 in /usr/local/lib/python3.11/dist-packages (from aiohttp<4.0.0,>=3.8.3->langchain) (1.3.2)\n",
            "Requirement already satisfied: attrs>=17.3.0 in /usr/local/lib/python3.11/dist-packages (from aiohttp<4.0.0,>=3.8.3->langchain) (24.3.0)\n",
            "Requirement already satisfied: frozenlist>=1.1.1 in /usr/local/lib/python3.11/dist-packages (from aiohttp<4.0.0,>=3.8.3->langchain) (1.5.0)\n",
            "Requirement already satisfied: multidict<7.0,>=4.5 in /usr/local/lib/python3.11/dist-packages (from aiohttp<4.0.0,>=3.8.3->langchain) (6.1.0)\n",
            "Requirement already satisfied: propcache>=0.2.0 in /usr/local/lib/python3.11/dist-packages (from aiohttp<4.0.0,>=3.8.3->langchain) (0.2.1)\n",
            "Requirement already satisfied: yarl<2.0,>=1.17.0 in /usr/local/lib/python3.11/dist-packages (from aiohttp<4.0.0,>=3.8.3->langchain) (1.18.3)\n",
            "Requirement already satisfied: jsonpatch<2.0,>=1.33 in /usr/local/lib/python3.11/dist-packages (from langchain-core<0.4.0,>=0.3.31->langchain) (1.33)\n",
            "Requirement already satisfied: packaging<25,>=23.2 in /usr/local/lib/python3.11/dist-packages (from langchain-core<0.4.0,>=0.3.31->langchain) (24.2)\n",
            "Requirement already satisfied: typing-extensions>=4.7 in /usr/local/lib/python3.11/dist-packages (from langchain-core<0.4.0,>=0.3.31->langchain) (4.12.2)\n",
            "Requirement already satisfied: httpx<1,>=0.23.0 in /usr/local/lib/python3.11/dist-packages (from langsmith<0.4,>=0.1.17->langchain) (0.28.1)\n",
            "Requirement already satisfied: orjson<4.0.0,>=3.9.14 in /usr/local/lib/python3.11/dist-packages (from langsmith<0.4,>=0.1.17->langchain) (3.10.15)\n",
            "Requirement already satisfied: requests-toolbelt<2.0.0,>=1.0.0 in /usr/local/lib/python3.11/dist-packages (from langsmith<0.4,>=0.1.17->langchain) (1.0.0)\n",
            "Requirement already satisfied: zstandard<0.24.0,>=0.23.0 in /usr/local/lib/python3.11/dist-packages (from langsmith<0.4,>=0.1.17->langchain) (0.23.0)\n",
            "Requirement already satisfied: annotated-types>=0.6.0 in /usr/local/lib/python3.11/dist-packages (from pydantic<3.0.0,>=2.7.4->langchain) (0.7.0)\n",
            "Requirement already satisfied: pydantic-core==2.27.2 in /usr/local/lib/python3.11/dist-packages (from pydantic<3.0.0,>=2.7.4->langchain) (2.27.2)\n",
            "Requirement already satisfied: charset-normalizer<4,>=2 in /usr/local/lib/python3.11/dist-packages (from requests<3,>=2->langchain) (3.4.1)\n",
            "Requirement already satisfied: idna<4,>=2.5 in /usr/local/lib/python3.11/dist-packages (from requests<3,>=2->langchain) (3.10)\n",
            "Requirement already satisfied: urllib3<3,>=1.21.1 in /usr/local/lib/python3.11/dist-packages (from requests<3,>=2->langchain) (2.3.0)\n",
            "Requirement already satisfied: certifi>=2017.4.17 in /usr/local/lib/python3.11/dist-packages (from requests<3,>=2->langchain) (2024.12.14)\n",
            "Requirement already satisfied: greenlet!=0.4.17 in /usr/local/lib/python3.11/dist-packages (from SQLAlchemy<3,>=1.4->langchain) (3.1.1)\n",
            "Requirement already satisfied: anyio in /usr/local/lib/python3.11/dist-packages (from httpx<1,>=0.23.0->langsmith<0.4,>=0.1.17->langchain) (3.7.1)\n",
            "Requirement already satisfied: httpcore==1.* in /usr/local/lib/python3.11/dist-packages (from httpx<1,>=0.23.0->langsmith<0.4,>=0.1.17->langchain) (1.0.7)\n",
            "Requirement already satisfied: h11<0.15,>=0.13 in /usr/local/lib/python3.11/dist-packages (from httpcore==1.*->httpx<1,>=0.23.0->langsmith<0.4,>=0.1.17->langchain) (0.14.0)\n",
            "Requirement already satisfied: jsonpointer>=1.9 in /usr/local/lib/python3.11/dist-packages (from jsonpatch<2.0,>=1.33->langchain-core<0.4.0,>=0.3.31->langchain) (3.0.0)\n",
            "Requirement already satisfied: sniffio>=1.1 in /usr/local/lib/python3.11/dist-packages (from anyio->httpx<1,>=0.23.0->langsmith<0.4,>=0.1.17->langchain) (1.3.1)\n",
            "Collecting qdrant-client\n",
            "  Downloading qdrant_client-1.13.2-py3-none-any.whl.metadata (10 kB)\n",
            "Requirement already satisfied: grpcio>=1.41.0 in /usr/local/lib/python3.11/dist-packages (from qdrant-client) (1.69.0)\n",
            "Collecting grpcio-tools>=1.41.0 (from qdrant-client)\n",
            "  Downloading grpcio_tools-1.70.0-cp311-cp311-manylinux_2_17_x86_64.manylinux2014_x86_64.whl.metadata (5.3 kB)\n",
            "Requirement already satisfied: httpx>=0.20.0 in /usr/local/lib/python3.11/dist-packages (from httpx[http2]>=0.20.0->qdrant-client) (0.28.1)\n",
            "Requirement already satisfied: numpy>=1.21 in /usr/local/lib/python3.11/dist-packages (from qdrant-client) (1.26.4)\n",
            "Collecting portalocker<3.0.0,>=2.7.0 (from qdrant-client)\n",
            "  Downloading portalocker-2.10.1-py3-none-any.whl.metadata (8.5 kB)\n",
            "Requirement already satisfied: pydantic>=1.10.8 in /usr/local/lib/python3.11/dist-packages (from qdrant-client) (2.10.5)\n",
            "Requirement already satisfied: urllib3<3,>=1.26.14 in /usr/local/lib/python3.11/dist-packages (from qdrant-client) (2.3.0)\n",
            "Collecting protobuf<6.0dev,>=5.26.1 (from grpcio-tools>=1.41.0->qdrant-client)\n",
            "  Downloading protobuf-5.29.3-cp38-abi3-manylinux2014_x86_64.whl.metadata (592 bytes)\n",
            "Collecting grpcio>=1.41.0 (from qdrant-client)\n",
            "  Downloading grpcio-1.70.0-cp311-cp311-manylinux_2_17_x86_64.manylinux2014_x86_64.whl.metadata (3.9 kB)\n",
            "Requirement already satisfied: setuptools in /usr/local/lib/python3.11/dist-packages (from grpcio-tools>=1.41.0->qdrant-client) (75.1.0)\n",
            "Requirement already satisfied: anyio in /usr/local/lib/python3.11/dist-packages (from httpx>=0.20.0->httpx[http2]>=0.20.0->qdrant-client) (3.7.1)\n",
            "Requirement already satisfied: certifi in /usr/local/lib/python3.11/dist-packages (from httpx>=0.20.0->httpx[http2]>=0.20.0->qdrant-client) (2024.12.14)\n",
            "Requirement already satisfied: httpcore==1.* in /usr/local/lib/python3.11/dist-packages (from httpx>=0.20.0->httpx[http2]>=0.20.0->qdrant-client) (1.0.7)\n",
            "Requirement already satisfied: idna in /usr/local/lib/python3.11/dist-packages (from httpx>=0.20.0->httpx[http2]>=0.20.0->qdrant-client) (3.10)\n",
            "Requirement already satisfied: h11<0.15,>=0.13 in /usr/local/lib/python3.11/dist-packages (from httpcore==1.*->httpx>=0.20.0->httpx[http2]>=0.20.0->qdrant-client) (0.14.0)\n",
            "Collecting h2<5,>=3 (from httpx[http2]>=0.20.0->qdrant-client)\n",
            "  Downloading h2-4.1.0-py3-none-any.whl.metadata (3.6 kB)\n",
            "Requirement already satisfied: annotated-types>=0.6.0 in /usr/local/lib/python3.11/dist-packages (from pydantic>=1.10.8->qdrant-client) (0.7.0)\n",
            "Requirement already satisfied: pydantic-core==2.27.2 in /usr/local/lib/python3.11/dist-packages (from pydantic>=1.10.8->qdrant-client) (2.27.2)\n",
            "Requirement already satisfied: typing-extensions>=4.12.2 in /usr/local/lib/python3.11/dist-packages (from pydantic>=1.10.8->qdrant-client) (4.12.2)\n",
            "Collecting hyperframe<7,>=6.0 (from h2<5,>=3->httpx[http2]>=0.20.0->qdrant-client)\n",
            "  Downloading hyperframe-6.1.0-py3-none-any.whl.metadata (4.3 kB)\n",
            "Collecting hpack<5,>=4.0 (from h2<5,>=3->httpx[http2]>=0.20.0->qdrant-client)\n",
            "  Downloading hpack-4.1.0-py3-none-any.whl.metadata (4.6 kB)\n",
            "Requirement already satisfied: sniffio>=1.1 in /usr/local/lib/python3.11/dist-packages (from anyio->httpx>=0.20.0->httpx[http2]>=0.20.0->qdrant-client) (1.3.1)\n",
            "Downloading qdrant_client-1.13.2-py3-none-any.whl (306 kB)\n",
            "\u001b[2K   \u001b[90m━━━━━━━━━━━━━━━━━━━━━━━━━━━━━━━━━━━━━━━━\u001b[0m \u001b[32m306.6/306.6 kB\u001b[0m \u001b[31m7.3 MB/s\u001b[0m eta \u001b[36m0:00:00\u001b[0m\n",
            "\u001b[?25hDownloading grpcio_tools-1.70.0-cp311-cp311-manylinux_2_17_x86_64.manylinux2014_x86_64.whl (2.5 MB)\n",
            "\u001b[2K   \u001b[90m━━━━━━━━━━━━━━━━━━━━━━━━━━━━━━━━━━━━━━━━\u001b[0m \u001b[32m2.5/2.5 MB\u001b[0m \u001b[31m41.8 MB/s\u001b[0m eta \u001b[36m0:00:00\u001b[0m\n",
            "\u001b[?25hDownloading grpcio-1.70.0-cp311-cp311-manylinux_2_17_x86_64.manylinux2014_x86_64.whl (5.9 MB)\n",
            "\u001b[2K   \u001b[90m━━━━━━━━━━━━━━━━━━━━━━━━━━━━━━━━━━━━━━━━\u001b[0m \u001b[32m5.9/5.9 MB\u001b[0m \u001b[31m67.4 MB/s\u001b[0m eta \u001b[36m0:00:00\u001b[0m\n",
            "\u001b[?25hDownloading portalocker-2.10.1-py3-none-any.whl (18 kB)\n",
            "Downloading h2-4.1.0-py3-none-any.whl (57 kB)\n",
            "\u001b[2K   \u001b[90m━━━━━━━━━━━━━━━━━━━━━━━━━━━━━━━━━━━━━━━━\u001b[0m \u001b[32m57.5/57.5 kB\u001b[0m \u001b[31m4.7 MB/s\u001b[0m eta \u001b[36m0:00:00\u001b[0m\n",
            "\u001b[?25hDownloading protobuf-5.29.3-cp38-abi3-manylinux2014_x86_64.whl (319 kB)\n",
            "\u001b[2K   \u001b[90m━━━━━━━━━━━━━━━━━━━━━━━━━━━━━━━━━━━━━━━━\u001b[0m \u001b[32m319.7/319.7 kB\u001b[0m \u001b[31m22.6 MB/s\u001b[0m eta \u001b[36m0:00:00\u001b[0m\n",
            "\u001b[?25hDownloading hpack-4.1.0-py3-none-any.whl (34 kB)\n",
            "Downloading hyperframe-6.1.0-py3-none-any.whl (13 kB)\n",
            "Installing collected packages: protobuf, portalocker, hyperframe, hpack, grpcio, h2, grpcio-tools, qdrant-client\n",
            "  Attempting uninstall: protobuf\n",
            "    Found existing installation: protobuf 4.25.5\n",
            "    Uninstalling protobuf-4.25.5:\n",
            "      Successfully uninstalled protobuf-4.25.5\n",
            "  Attempting uninstall: grpcio\n",
            "    Found existing installation: grpcio 1.69.0\n",
            "    Uninstalling grpcio-1.69.0:\n",
            "      Successfully uninstalled grpcio-1.69.0\n",
            "\u001b[31mERROR: pip's dependency resolver does not currently take into account all the packages that are installed. This behaviour is the source of the following dependency conflicts.\n",
            "tensorflow 2.17.1 requires protobuf!=4.21.0,!=4.21.1,!=4.21.2,!=4.21.3,!=4.21.4,!=4.21.5,<5.0.0dev,>=3.20.3, but you have protobuf 5.29.3 which is incompatible.\u001b[0m\u001b[31m\n",
            "\u001b[0mSuccessfully installed grpcio-1.70.0 grpcio-tools-1.70.0 h2-4.1.0 hpack-4.1.0 hyperframe-6.1.0 portalocker-2.10.1 protobuf-5.29.3 qdrant-client-1.13.2\n",
            "Requirement already satisfied: sentence_transformers in /usr/local/lib/python3.11/dist-packages (3.3.1)\n",
            "Requirement already satisfied: transformers<5.0.0,>=4.41.0 in /usr/local/lib/python3.11/dist-packages (from sentence_transformers) (4.47.1)\n",
            "Requirement already satisfied: tqdm in /usr/local/lib/python3.11/dist-packages (from sentence_transformers) (4.67.1)\n",
            "Requirement already satisfied: torch>=1.11.0 in /usr/local/lib/python3.11/dist-packages (from sentence_transformers) (2.5.1+cu121)\n",
            "Requirement already satisfied: scikit-learn in /usr/local/lib/python3.11/dist-packages (from sentence_transformers) (1.6.1)\n",
            "Requirement already satisfied: scipy in /usr/local/lib/python3.11/dist-packages (from sentence_transformers) (1.13.1)\n",
            "Requirement already satisfied: huggingface-hub>=0.20.0 in /usr/local/lib/python3.11/dist-packages (from sentence_transformers) (0.27.1)\n",
            "Requirement already satisfied: Pillow in /usr/local/lib/python3.11/dist-packages (from sentence_transformers) (11.1.0)\n",
            "Requirement already satisfied: filelock in /usr/local/lib/python3.11/dist-packages (from huggingface-hub>=0.20.0->sentence_transformers) (3.17.0)\n",
            "Requirement already satisfied: fsspec>=2023.5.0 in /usr/local/lib/python3.11/dist-packages (from huggingface-hub>=0.20.0->sentence_transformers) (2024.10.0)\n",
            "Requirement already satisfied: packaging>=20.9 in /usr/local/lib/python3.11/dist-packages (from huggingface-hub>=0.20.0->sentence_transformers) (24.2)\n",
            "Requirement already satisfied: pyyaml>=5.1 in /usr/local/lib/python3.11/dist-packages (from huggingface-hub>=0.20.0->sentence_transformers) (6.0.2)\n",
            "Requirement already satisfied: requests in /usr/local/lib/python3.11/dist-packages (from huggingface-hub>=0.20.0->sentence_transformers) (2.32.3)\n",
            "Requirement already satisfied: typing-extensions>=3.7.4.3 in /usr/local/lib/python3.11/dist-packages (from huggingface-hub>=0.20.0->sentence_transformers) (4.12.2)\n",
            "Requirement already satisfied: networkx in /usr/local/lib/python3.11/dist-packages (from torch>=1.11.0->sentence_transformers) (3.4.2)\n",
            "Requirement already satisfied: jinja2 in /usr/local/lib/python3.11/dist-packages (from torch>=1.11.0->sentence_transformers) (3.1.5)\n",
            "Requirement already satisfied: nvidia-cuda-nvrtc-cu12==12.1.105 in /usr/local/lib/python3.11/dist-packages (from torch>=1.11.0->sentence_transformers) (12.1.105)\n",
            "Requirement already satisfied: nvidia-cuda-runtime-cu12==12.1.105 in /usr/local/lib/python3.11/dist-packages (from torch>=1.11.0->sentence_transformers) (12.1.105)\n",
            "Requirement already satisfied: nvidia-cuda-cupti-cu12==12.1.105 in /usr/local/lib/python3.11/dist-packages (from torch>=1.11.0->sentence_transformers) (12.1.105)\n",
            "Requirement already satisfied: nvidia-cudnn-cu12==9.1.0.70 in /usr/local/lib/python3.11/dist-packages (from torch>=1.11.0->sentence_transformers) (9.1.0.70)\n",
            "Requirement already satisfied: nvidia-cublas-cu12==12.1.3.1 in /usr/local/lib/python3.11/dist-packages (from torch>=1.11.0->sentence_transformers) (12.1.3.1)\n",
            "Requirement already satisfied: nvidia-cufft-cu12==11.0.2.54 in /usr/local/lib/python3.11/dist-packages (from torch>=1.11.0->sentence_transformers) (11.0.2.54)\n",
            "Requirement already satisfied: nvidia-curand-cu12==10.3.2.106 in /usr/local/lib/python3.11/dist-packages (from torch>=1.11.0->sentence_transformers) (10.3.2.106)\n",
            "Requirement already satisfied: nvidia-cusolver-cu12==11.4.5.107 in /usr/local/lib/python3.11/dist-packages (from torch>=1.11.0->sentence_transformers) (11.4.5.107)\n",
            "Requirement already satisfied: nvidia-cusparse-cu12==12.1.0.106 in /usr/local/lib/python3.11/dist-packages (from torch>=1.11.0->sentence_transformers) (12.1.0.106)\n",
            "Requirement already satisfied: nvidia-nccl-cu12==2.21.5 in /usr/local/lib/python3.11/dist-packages (from torch>=1.11.0->sentence_transformers) (2.21.5)\n",
            "Requirement already satisfied: nvidia-nvtx-cu12==12.1.105 in /usr/local/lib/python3.11/dist-packages (from torch>=1.11.0->sentence_transformers) (12.1.105)\n",
            "Requirement already satisfied: triton==3.1.0 in /usr/local/lib/python3.11/dist-packages (from torch>=1.11.0->sentence_transformers) (3.1.0)\n",
            "Requirement already satisfied: sympy==1.13.1 in /usr/local/lib/python3.11/dist-packages (from torch>=1.11.0->sentence_transformers) (1.13.1)\n",
            "Requirement already satisfied: nvidia-nvjitlink-cu12 in /usr/local/lib/python3.11/dist-packages (from nvidia-cusolver-cu12==11.4.5.107->torch>=1.11.0->sentence_transformers) (12.6.85)\n",
            "Requirement already satisfied: mpmath<1.4,>=1.1.0 in /usr/local/lib/python3.11/dist-packages (from sympy==1.13.1->torch>=1.11.0->sentence_transformers) (1.3.0)\n",
            "Requirement already satisfied: numpy>=1.17 in /usr/local/lib/python3.11/dist-packages (from transformers<5.0.0,>=4.41.0->sentence_transformers) (1.26.4)\n",
            "Requirement already satisfied: regex!=2019.12.17 in /usr/local/lib/python3.11/dist-packages (from transformers<5.0.0,>=4.41.0->sentence_transformers) (2024.11.6)\n",
            "Requirement already satisfied: tokenizers<0.22,>=0.21 in /usr/local/lib/python3.11/dist-packages (from transformers<5.0.0,>=4.41.0->sentence_transformers) (0.21.0)\n",
            "Requirement already satisfied: safetensors>=0.4.1 in /usr/local/lib/python3.11/dist-packages (from transformers<5.0.0,>=4.41.0->sentence_transformers) (0.5.2)\n",
            "Requirement already satisfied: joblib>=1.2.0 in /usr/local/lib/python3.11/dist-packages (from scikit-learn->sentence_transformers) (1.4.2)\n",
            "Requirement already satisfied: threadpoolctl>=3.1.0 in /usr/local/lib/python3.11/dist-packages (from scikit-learn->sentence_transformers) (3.5.0)\n",
            "Requirement already satisfied: MarkupSafe>=2.0 in /usr/local/lib/python3.11/dist-packages (from jinja2->torch>=1.11.0->sentence_transformers) (3.0.2)\n",
            "Requirement already satisfied: charset-normalizer<4,>=2 in /usr/local/lib/python3.11/dist-packages (from requests->huggingface-hub>=0.20.0->sentence_transformers) (3.4.1)\n",
            "Requirement already satisfied: idna<4,>=2.5 in /usr/local/lib/python3.11/dist-packages (from requests->huggingface-hub>=0.20.0->sentence_transformers) (3.10)\n",
            "Requirement already satisfied: urllib3<3,>=1.21.1 in /usr/local/lib/python3.11/dist-packages (from requests->huggingface-hub>=0.20.0->sentence_transformers) (2.3.0)\n",
            "Requirement already satisfied: certifi>=2017.4.17 in /usr/local/lib/python3.11/dist-packages (from requests->huggingface-hub>=0.20.0->sentence_transformers) (2024.12.14)\n",
            "Collecting rank-bm25\n",
            "  Downloading rank_bm25-0.2.2-py3-none-any.whl.metadata (3.2 kB)\n",
            "Requirement already satisfied: numpy in /usr/local/lib/python3.11/dist-packages (from rank-bm25) (1.26.4)\n",
            "Downloading rank_bm25-0.2.2-py3-none-any.whl (8.6 kB)\n",
            "Installing collected packages: rank-bm25\n",
            "Successfully installed rank-bm25-0.2.2\n"
          ]
        }
      ],
      "source": [
        "!pip install langchain\n",
        "!pip install qdrant-client\n",
        "!pip install sentence_transformers\n",
        "!pip install rank-bm25"
      ]
    },
    {
      "cell_type": "code",
      "source": [
        "!pip install -U langchain-community"
      ],
      "metadata": {
        "colab": {
          "base_uri": "https://localhost:8080/"
        },
        "id": "T3FVwkokvsUF",
        "outputId": "61ef6bf5-bb8d-4547-d4a6-ffeca66c6cc4"
      },
      "execution_count": 3,
      "outputs": [
        {
          "output_type": "stream",
          "name": "stdout",
          "text": [
            "Collecting langchain-community\n",
            "  Downloading langchain_community-0.3.16-py3-none-any.whl.metadata (2.9 kB)\n",
            "Requirement already satisfied: PyYAML>=5.3 in /usr/local/lib/python3.11/dist-packages (from langchain-community) (6.0.2)\n",
            "Requirement already satisfied: SQLAlchemy<3,>=1.4 in /usr/local/lib/python3.11/dist-packages (from langchain-community) (2.0.37)\n",
            "Requirement already satisfied: aiohttp<4.0.0,>=3.8.3 in /usr/local/lib/python3.11/dist-packages (from langchain-community) (3.11.11)\n",
            "Collecting dataclasses-json<0.7,>=0.5.7 (from langchain-community)\n",
            "  Downloading dataclasses_json-0.6.7-py3-none-any.whl.metadata (25 kB)\n",
            "Collecting httpx-sse<0.5.0,>=0.4.0 (from langchain-community)\n",
            "  Downloading httpx_sse-0.4.0-py3-none-any.whl.metadata (9.0 kB)\n",
            "Collecting langchain<0.4.0,>=0.3.16 (from langchain-community)\n",
            "  Downloading langchain-0.3.16-py3-none-any.whl.metadata (7.1 kB)\n",
            "Collecting langchain-core<0.4.0,>=0.3.32 (from langchain-community)\n",
            "  Downloading langchain_core-0.3.32-py3-none-any.whl.metadata (6.3 kB)\n",
            "Requirement already satisfied: langsmith<0.4,>=0.1.125 in /usr/local/lib/python3.11/dist-packages (from langchain-community) (0.3.1)\n",
            "Requirement already satisfied: numpy<2,>=1.22.4 in /usr/local/lib/python3.11/dist-packages (from langchain-community) (1.26.4)\n",
            "Collecting pydantic-settings<3.0.0,>=2.4.0 (from langchain-community)\n",
            "  Downloading pydantic_settings-2.7.1-py3-none-any.whl.metadata (3.5 kB)\n",
            "Requirement already satisfied: requests<3,>=2 in /usr/local/lib/python3.11/dist-packages (from langchain-community) (2.32.3)\n",
            "Requirement already satisfied: tenacity!=8.4.0,<10,>=8.1.0 in /usr/local/lib/python3.11/dist-packages (from langchain-community) (9.0.0)\n",
            "Requirement already satisfied: aiohappyeyeballs>=2.3.0 in /usr/local/lib/python3.11/dist-packages (from aiohttp<4.0.0,>=3.8.3->langchain-community) (2.4.4)\n",
            "Requirement already satisfied: aiosignal>=1.1.2 in /usr/local/lib/python3.11/dist-packages (from aiohttp<4.0.0,>=3.8.3->langchain-community) (1.3.2)\n",
            "Requirement already satisfied: attrs>=17.3.0 in /usr/local/lib/python3.11/dist-packages (from aiohttp<4.0.0,>=3.8.3->langchain-community) (24.3.0)\n",
            "Requirement already satisfied: frozenlist>=1.1.1 in /usr/local/lib/python3.11/dist-packages (from aiohttp<4.0.0,>=3.8.3->langchain-community) (1.5.0)\n",
            "Requirement already satisfied: multidict<7.0,>=4.5 in /usr/local/lib/python3.11/dist-packages (from aiohttp<4.0.0,>=3.8.3->langchain-community) (6.1.0)\n",
            "Requirement already satisfied: propcache>=0.2.0 in /usr/local/lib/python3.11/dist-packages (from aiohttp<4.0.0,>=3.8.3->langchain-community) (0.2.1)\n",
            "Requirement already satisfied: yarl<2.0,>=1.17.0 in /usr/local/lib/python3.11/dist-packages (from aiohttp<4.0.0,>=3.8.3->langchain-community) (1.18.3)\n",
            "Collecting marshmallow<4.0.0,>=3.18.0 (from dataclasses-json<0.7,>=0.5.7->langchain-community)\n",
            "  Downloading marshmallow-3.26.0-py3-none-any.whl.metadata (7.3 kB)\n",
            "Collecting typing-inspect<1,>=0.4.0 (from dataclasses-json<0.7,>=0.5.7->langchain-community)\n",
            "  Downloading typing_inspect-0.9.0-py3-none-any.whl.metadata (1.5 kB)\n",
            "Requirement already satisfied: langchain-text-splitters<0.4.0,>=0.3.3 in /usr/local/lib/python3.11/dist-packages (from langchain<0.4.0,>=0.3.16->langchain-community) (0.3.5)\n",
            "Requirement already satisfied: pydantic<3.0.0,>=2.7.4 in /usr/local/lib/python3.11/dist-packages (from langchain<0.4.0,>=0.3.16->langchain-community) (2.10.5)\n",
            "Requirement already satisfied: jsonpatch<2.0,>=1.33 in /usr/local/lib/python3.11/dist-packages (from langchain-core<0.4.0,>=0.3.32->langchain-community) (1.33)\n",
            "Requirement already satisfied: packaging<25,>=23.2 in /usr/local/lib/python3.11/dist-packages (from langchain-core<0.4.0,>=0.3.32->langchain-community) (24.2)\n",
            "Requirement already satisfied: typing-extensions>=4.7 in /usr/local/lib/python3.11/dist-packages (from langchain-core<0.4.0,>=0.3.32->langchain-community) (4.12.2)\n",
            "Requirement already satisfied: httpx<1,>=0.23.0 in /usr/local/lib/python3.11/dist-packages (from langsmith<0.4,>=0.1.125->langchain-community) (0.28.1)\n",
            "Requirement already satisfied: orjson<4.0.0,>=3.9.14 in /usr/local/lib/python3.11/dist-packages (from langsmith<0.4,>=0.1.125->langchain-community) (3.10.15)\n",
            "Requirement already satisfied: requests-toolbelt<2.0.0,>=1.0.0 in /usr/local/lib/python3.11/dist-packages (from langsmith<0.4,>=0.1.125->langchain-community) (1.0.0)\n",
            "Requirement already satisfied: zstandard<0.24.0,>=0.23.0 in /usr/local/lib/python3.11/dist-packages (from langsmith<0.4,>=0.1.125->langchain-community) (0.23.0)\n",
            "Collecting python-dotenv>=0.21.0 (from pydantic-settings<3.0.0,>=2.4.0->langchain-community)\n",
            "  Downloading python_dotenv-1.0.1-py3-none-any.whl.metadata (23 kB)\n",
            "Requirement already satisfied: charset-normalizer<4,>=2 in /usr/local/lib/python3.11/dist-packages (from requests<3,>=2->langchain-community) (3.4.1)\n",
            "Requirement already satisfied: idna<4,>=2.5 in /usr/local/lib/python3.11/dist-packages (from requests<3,>=2->langchain-community) (3.10)\n",
            "Requirement already satisfied: urllib3<3,>=1.21.1 in /usr/local/lib/python3.11/dist-packages (from requests<3,>=2->langchain-community) (2.3.0)\n",
            "Requirement already satisfied: certifi>=2017.4.17 in /usr/local/lib/python3.11/dist-packages (from requests<3,>=2->langchain-community) (2024.12.14)\n",
            "Requirement already satisfied: greenlet!=0.4.17 in /usr/local/lib/python3.11/dist-packages (from SQLAlchemy<3,>=1.4->langchain-community) (3.1.1)\n",
            "Requirement already satisfied: anyio in /usr/local/lib/python3.11/dist-packages (from httpx<1,>=0.23.0->langsmith<0.4,>=0.1.125->langchain-community) (3.7.1)\n",
            "Requirement already satisfied: httpcore==1.* in /usr/local/lib/python3.11/dist-packages (from httpx<1,>=0.23.0->langsmith<0.4,>=0.1.125->langchain-community) (1.0.7)\n",
            "Requirement already satisfied: h11<0.15,>=0.13 in /usr/local/lib/python3.11/dist-packages (from httpcore==1.*->httpx<1,>=0.23.0->langsmith<0.4,>=0.1.125->langchain-community) (0.14.0)\n",
            "Requirement already satisfied: jsonpointer>=1.9 in /usr/local/lib/python3.11/dist-packages (from jsonpatch<2.0,>=1.33->langchain-core<0.4.0,>=0.3.32->langchain-community) (3.0.0)\n",
            "Requirement already satisfied: annotated-types>=0.6.0 in /usr/local/lib/python3.11/dist-packages (from pydantic<3.0.0,>=2.7.4->langchain<0.4.0,>=0.3.16->langchain-community) (0.7.0)\n",
            "Requirement already satisfied: pydantic-core==2.27.2 in /usr/local/lib/python3.11/dist-packages (from pydantic<3.0.0,>=2.7.4->langchain<0.4.0,>=0.3.16->langchain-community) (2.27.2)\n",
            "Collecting mypy-extensions>=0.3.0 (from typing-inspect<1,>=0.4.0->dataclasses-json<0.7,>=0.5.7->langchain-community)\n",
            "  Downloading mypy_extensions-1.0.0-py3-none-any.whl.metadata (1.1 kB)\n",
            "Requirement already satisfied: sniffio>=1.1 in /usr/local/lib/python3.11/dist-packages (from anyio->httpx<1,>=0.23.0->langsmith<0.4,>=0.1.125->langchain-community) (1.3.1)\n",
            "Downloading langchain_community-0.3.16-py3-none-any.whl (2.5 MB)\n",
            "\u001b[2K   \u001b[90m━━━━━━━━━━━━━━━━━━━━━━━━━━━━━━━━━━━━━━━━\u001b[0m \u001b[32m2.5/2.5 MB\u001b[0m \u001b[31m25.3 MB/s\u001b[0m eta \u001b[36m0:00:00\u001b[0m\n",
            "\u001b[?25hDownloading dataclasses_json-0.6.7-py3-none-any.whl (28 kB)\n",
            "Downloading httpx_sse-0.4.0-py3-none-any.whl (7.8 kB)\n",
            "Downloading langchain-0.3.16-py3-none-any.whl (1.0 MB)\n",
            "\u001b[2K   \u001b[90m━━━━━━━━━━━━━━━━━━━━━━━━━━━━━━━━━━━━━━━━\u001b[0m \u001b[32m1.0/1.0 MB\u001b[0m \u001b[31m19.0 MB/s\u001b[0m eta \u001b[36m0:00:00\u001b[0m\n",
            "\u001b[?25hDownloading langchain_core-0.3.32-py3-none-any.whl (412 kB)\n",
            "\u001b[2K   \u001b[90m━━━━━━━━━━━━━━━━━━━━━━━━━━━━━━━━━━━━━━━━\u001b[0m \u001b[32m412.4/412.4 kB\u001b[0m \u001b[31m8.2 MB/s\u001b[0m eta \u001b[36m0:00:00\u001b[0m\n",
            "\u001b[?25hDownloading pydantic_settings-2.7.1-py3-none-any.whl (29 kB)\n",
            "Downloading marshmallow-3.26.0-py3-none-any.whl (50 kB)\n",
            "\u001b[2K   \u001b[90m━━━━━━━━━━━━━━━━━━━━━━━━━━━━━━━━━━━━━━━━\u001b[0m \u001b[32m50.8/50.8 kB\u001b[0m \u001b[31m3.7 MB/s\u001b[0m eta \u001b[36m0:00:00\u001b[0m\n",
            "\u001b[?25hDownloading python_dotenv-1.0.1-py3-none-any.whl (19 kB)\n",
            "Downloading typing_inspect-0.9.0-py3-none-any.whl (8.8 kB)\n",
            "Downloading mypy_extensions-1.0.0-py3-none-any.whl (4.7 kB)\n",
            "Installing collected packages: python-dotenv, mypy-extensions, marshmallow, httpx-sse, typing-inspect, pydantic-settings, dataclasses-json, langchain-core, langchain, langchain-community\n",
            "  Attempting uninstall: langchain-core\n",
            "    Found existing installation: langchain-core 0.3.31\n",
            "    Uninstalling langchain-core-0.3.31:\n",
            "      Successfully uninstalled langchain-core-0.3.31\n",
            "  Attempting uninstall: langchain\n",
            "    Found existing installation: langchain 0.3.15\n",
            "    Uninstalling langchain-0.3.15:\n",
            "      Successfully uninstalled langchain-0.3.15\n",
            "Successfully installed dataclasses-json-0.6.7 httpx-sse-0.4.0 langchain-0.3.16 langchain-community-0.3.16 langchain-core-0.3.32 marshmallow-3.26.0 mypy-extensions-1.0.0 pydantic-settings-2.7.1 python-dotenv-1.0.1 typing-inspect-0.9.0\n"
          ]
        }
      ]
    },
    {
      "cell_type": "code",
      "source": [
        "!pip install kaggle\n",
        "\n"
      ],
      "metadata": {
        "colab": {
          "base_uri": "https://localhost:8080/"
        },
        "id": "ACqawbxkxVvY",
        "outputId": "02bdd66a-7346-4819-b918-9a5c22b87495"
      },
      "execution_count": 4,
      "outputs": [
        {
          "output_type": "stream",
          "name": "stdout",
          "text": [
            "Requirement already satisfied: kaggle in /usr/local/lib/python3.11/dist-packages (1.6.17)\n",
            "Requirement already satisfied: six>=1.10 in /usr/local/lib/python3.11/dist-packages (from kaggle) (1.17.0)\n",
            "Requirement already satisfied: certifi>=2023.7.22 in /usr/local/lib/python3.11/dist-packages (from kaggle) (2024.12.14)\n",
            "Requirement already satisfied: python-dateutil in /usr/local/lib/python3.11/dist-packages (from kaggle) (2.8.2)\n",
            "Requirement already satisfied: requests in /usr/local/lib/python3.11/dist-packages (from kaggle) (2.32.3)\n",
            "Requirement already satisfied: tqdm in /usr/local/lib/python3.11/dist-packages (from kaggle) (4.67.1)\n",
            "Requirement already satisfied: python-slugify in /usr/local/lib/python3.11/dist-packages (from kaggle) (8.0.4)\n",
            "Requirement already satisfied: urllib3 in /usr/local/lib/python3.11/dist-packages (from kaggle) (2.3.0)\n",
            "Requirement already satisfied: bleach in /usr/local/lib/python3.11/dist-packages (from kaggle) (6.2.0)\n",
            "Requirement already satisfied: webencodings in /usr/local/lib/python3.11/dist-packages (from bleach->kaggle) (0.5.1)\n",
            "Requirement already satisfied: text-unidecode>=1.3 in /usr/local/lib/python3.11/dist-packages (from python-slugify->kaggle) (1.3)\n",
            "Requirement already satisfied: charset-normalizer<4,>=2 in /usr/local/lib/python3.11/dist-packages (from requests->kaggle) (3.4.1)\n",
            "Requirement already satisfied: idna<4,>=2.5 in /usr/local/lib/python3.11/dist-packages (from requests->kaggle) (3.10)\n"
          ]
        }
      ]
    },
    {
      "cell_type": "code",
      "source": [
        "from google.colab import files\n",
        "files.upload()"
      ],
      "metadata": {
        "colab": {
          "base_uri": "https://localhost:8080/",
          "height": 38
        },
        "id": "CSYFzKhNzabF",
        "outputId": "92a1600e-7ccb-442a-ff51-948c9a6bb3f6"
      },
      "execution_count": null,
      "outputs": [
        {
          "output_type": "display_data",
          "data": {
            "text/plain": [
              "<IPython.core.display.HTML object>"
            ],
            "text/html": [
              "\n",
              "     <input type=\"file\" id=\"files-33df1a67-8936-46ba-831c-8c7543385b23\" name=\"files[]\" multiple disabled\n",
              "        style=\"border:none\" />\n",
              "     <output id=\"result-33df1a67-8936-46ba-831c-8c7543385b23\">\n",
              "      Upload widget is only available when the cell has been executed in the\n",
              "      current browser session. Please rerun this cell to enable.\n",
              "      </output>\n",
              "      <script>// Copyright 2017 Google LLC\n",
              "//\n",
              "// Licensed under the Apache License, Version 2.0 (the \"License\");\n",
              "// you may not use this file except in compliance with the License.\n",
              "// You may obtain a copy of the License at\n",
              "//\n",
              "//      http://www.apache.org/licenses/LICENSE-2.0\n",
              "//\n",
              "// Unless required by applicable law or agreed to in writing, software\n",
              "// distributed under the License is distributed on an \"AS IS\" BASIS,\n",
              "// WITHOUT WARRANTIES OR CONDITIONS OF ANY KIND, either express or implied.\n",
              "// See the License for the specific language governing permissions and\n",
              "// limitations under the License.\n",
              "\n",
              "/**\n",
              " * @fileoverview Helpers for google.colab Python module.\n",
              " */\n",
              "(function(scope) {\n",
              "function span(text, styleAttributes = {}) {\n",
              "  const element = document.createElement('span');\n",
              "  element.textContent = text;\n",
              "  for (const key of Object.keys(styleAttributes)) {\n",
              "    element.style[key] = styleAttributes[key];\n",
              "  }\n",
              "  return element;\n",
              "}\n",
              "\n",
              "// Max number of bytes which will be uploaded at a time.\n",
              "const MAX_PAYLOAD_SIZE = 100 * 1024;\n",
              "\n",
              "function _uploadFiles(inputId, outputId) {\n",
              "  const steps = uploadFilesStep(inputId, outputId);\n",
              "  const outputElement = document.getElementById(outputId);\n",
              "  // Cache steps on the outputElement to make it available for the next call\n",
              "  // to uploadFilesContinue from Python.\n",
              "  outputElement.steps = steps;\n",
              "\n",
              "  return _uploadFilesContinue(outputId);\n",
              "}\n",
              "\n",
              "// This is roughly an async generator (not supported in the browser yet),\n",
              "// where there are multiple asynchronous steps and the Python side is going\n",
              "// to poll for completion of each step.\n",
              "// This uses a Promise to block the python side on completion of each step,\n",
              "// then passes the result of the previous step as the input to the next step.\n",
              "function _uploadFilesContinue(outputId) {\n",
              "  const outputElement = document.getElementById(outputId);\n",
              "  const steps = outputElement.steps;\n",
              "\n",
              "  const next = steps.next(outputElement.lastPromiseValue);\n",
              "  return Promise.resolve(next.value.promise).then((value) => {\n",
              "    // Cache the last promise value to make it available to the next\n",
              "    // step of the generator.\n",
              "    outputElement.lastPromiseValue = value;\n",
              "    return next.value.response;\n",
              "  });\n",
              "}\n",
              "\n",
              "/**\n",
              " * Generator function which is called between each async step of the upload\n",
              " * process.\n",
              " * @param {string} inputId Element ID of the input file picker element.\n",
              " * @param {string} outputId Element ID of the output display.\n",
              " * @return {!Iterable<!Object>} Iterable of next steps.\n",
              " */\n",
              "function* uploadFilesStep(inputId, outputId) {\n",
              "  const inputElement = document.getElementById(inputId);\n",
              "  inputElement.disabled = false;\n",
              "\n",
              "  const outputElement = document.getElementById(outputId);\n",
              "  outputElement.innerHTML = '';\n",
              "\n",
              "  const pickedPromise = new Promise((resolve) => {\n",
              "    inputElement.addEventListener('change', (e) => {\n",
              "      resolve(e.target.files);\n",
              "    });\n",
              "  });\n",
              "\n",
              "  const cancel = document.createElement('button');\n",
              "  inputElement.parentElement.appendChild(cancel);\n",
              "  cancel.textContent = 'Cancel upload';\n",
              "  const cancelPromise = new Promise((resolve) => {\n",
              "    cancel.onclick = () => {\n",
              "      resolve(null);\n",
              "    };\n",
              "  });\n",
              "\n",
              "  // Wait for the user to pick the files.\n",
              "  const files = yield {\n",
              "    promise: Promise.race([pickedPromise, cancelPromise]),\n",
              "    response: {\n",
              "      action: 'starting',\n",
              "    }\n",
              "  };\n",
              "\n",
              "  cancel.remove();\n",
              "\n",
              "  // Disable the input element since further picks are not allowed.\n",
              "  inputElement.disabled = true;\n",
              "\n",
              "  if (!files) {\n",
              "    return {\n",
              "      response: {\n",
              "        action: 'complete',\n",
              "      }\n",
              "    };\n",
              "  }\n",
              "\n",
              "  for (const file of files) {\n",
              "    const li = document.createElement('li');\n",
              "    li.append(span(file.name, {fontWeight: 'bold'}));\n",
              "    li.append(span(\n",
              "        `(${file.type || 'n/a'}) - ${file.size} bytes, ` +\n",
              "        `last modified: ${\n",
              "            file.lastModifiedDate ? file.lastModifiedDate.toLocaleDateString() :\n",
              "                                    'n/a'} - `));\n",
              "    const percent = span('0% done');\n",
              "    li.appendChild(percent);\n",
              "\n",
              "    outputElement.appendChild(li);\n",
              "\n",
              "    const fileDataPromise = new Promise((resolve) => {\n",
              "      const reader = new FileReader();\n",
              "      reader.onload = (e) => {\n",
              "        resolve(e.target.result);\n",
              "      };\n",
              "      reader.readAsArrayBuffer(file);\n",
              "    });\n",
              "    // Wait for the data to be ready.\n",
              "    let fileData = yield {\n",
              "      promise: fileDataPromise,\n",
              "      response: {\n",
              "        action: 'continue',\n",
              "      }\n",
              "    };\n",
              "\n",
              "    // Use a chunked sending to avoid message size limits. See b/62115660.\n",
              "    let position = 0;\n",
              "    do {\n",
              "      const length = Math.min(fileData.byteLength - position, MAX_PAYLOAD_SIZE);\n",
              "      const chunk = new Uint8Array(fileData, position, length);\n",
              "      position += length;\n",
              "\n",
              "      const base64 = btoa(String.fromCharCode.apply(null, chunk));\n",
              "      yield {\n",
              "        response: {\n",
              "          action: 'append',\n",
              "          file: file.name,\n",
              "          data: base64,\n",
              "        },\n",
              "      };\n",
              "\n",
              "      let percentDone = fileData.byteLength === 0 ?\n",
              "          100 :\n",
              "          Math.round((position / fileData.byteLength) * 100);\n",
              "      percent.textContent = `${percentDone}% done`;\n",
              "\n",
              "    } while (position < fileData.byteLength);\n",
              "  }\n",
              "\n",
              "  // All done.\n",
              "  yield {\n",
              "    response: {\n",
              "      action: 'complete',\n",
              "    }\n",
              "  };\n",
              "}\n",
              "\n",
              "scope.google = scope.google || {};\n",
              "scope.google.colab = scope.google.colab || {};\n",
              "scope.google.colab._files = {\n",
              "  _uploadFiles,\n",
              "  _uploadFilesContinue,\n",
              "};\n",
              "})(self);\n",
              "</script> "
            ]
          },
          "metadata": {}
        }
      ]
    },
    {
      "cell_type": "code",
      "source": [
        "!mkdir -p ~/.kaggle\n",
        "!mv kaggle.json ~/.kaggle/\n",
        "!chmod 600 ~/.kaggle/kaggle.json"
      ],
      "metadata": {
        "id": "7lZhkyYdznS2"
      },
      "execution_count": null,
      "outputs": []
    },
    {
      "cell_type": "code",
      "source": [
        "!kaggle datasets download -d paramaggarwal/fashion-product-images-small\n",
        "!kaggle datasets download -d faresdyab/fashion-product-images-dataset\n",
        "\n"
      ],
      "metadata": {
        "id": "sGL5v6dNzpDU"
      },
      "execution_count": null,
      "outputs": []
    },
    {
      "cell_type": "markdown",
      "metadata": {
        "id": "8FjZV-B5aIb7"
      },
      "source": [
        "## **Import libraries**"
      ]
    },
    {
      "cell_type": "code",
      "execution_count": null,
      "metadata": {
        "execution": {
          "iopub.execute_input": "2024-03-08T14:16:30.623216Z",
          "iopub.status.busy": "2024-03-08T14:16:30.622894Z",
          "iopub.status.idle": "2024-03-08T14:16:35.945279Z",
          "shell.execute_reply": "2024-03-08T14:16:35.944214Z",
          "shell.execute_reply.started": "2024-03-08T14:16:30.623187Z"
        },
        "trusted": true,
        "id": "YnxK7_K7aIb8"
      },
      "outputs": [],
      "source": [
        "from langchain.retrievers import BM25Retriever, EnsembleRetriever\n",
        "from langchain.docstore.document import Document\n",
        "from langchain.vectorstores import Qdrant\n",
        "import transformers.models.clip.image_processing_clip\n",
        "\n",
        "from qdrant_client import QdrantClient\n",
        "from qdrant_client.models import Distance, VectorParams, PointStruct, HnswConfigDiff,OptimizersConfigDiff,ScalarQuantization,ScalarType, ScalarQuantizationConfig\n",
        "\n",
        "import pandas as pd\n",
        "from PIL import Image\n",
        "import os\n",
        "from tqdm import tqdm\n",
        "from kaggle_secrets import UserSecretsClient"
      ]
    },
    {
      "cell_type": "markdown",
      "metadata": {
        "id": "lfQUSsuVaIb8"
      },
      "source": [
        "## **Load dataset**"
      ]
    },
    {
      "cell_type": "code",
      "execution_count": null,
      "metadata": {
        "execution": {
          "iopub.execute_input": "2024-03-08T14:16:35.948278Z",
          "iopub.status.busy": "2024-03-08T14:16:35.947583Z",
          "iopub.status.idle": "2024-03-08T14:16:36.379383Z",
          "shell.execute_reply": "2024-03-08T14:16:36.378579Z",
          "shell.execute_reply.started": "2024-03-08T14:16:35.948248Z"
        },
        "trusted": true,
        "id": "0_oW0QbraIb8"
      },
      "outputs": [],
      "source": [
        "import pandas as pd\n",
        "metadata_f = pd.read_csv(\"/kaggle/input/fashion-product-images-small/styles.csv\", on_bad_lines='skip')\n",
        "imagedata_f = pd.read_csv('/kaggle/input/fashion-product-images-dataset/fashion-dataset/images.csv',on_bad_lines='skip')\n",
        "my_fashion = pd.read_csv('/kaggle/input/my-fashion/images.csv',on_bad_lines='skip')"
      ]
    },
    {
      "cell_type": "code",
      "source": [
        "import pandas as pd\n",
        "\n",
        "# Load metadata for the small dataset\n",
        "metadata_f = pd.read_csv('./data/small_dataset/styles.csv', on_bad_lines='skip')\n",
        "\n",
        "# Display basic information\n",
        "print(metadata_f.head())\n"
      ],
      "metadata": {
        "id": "PIcROEhb4-zC"
      },
      "execution_count": null,
      "outputs": []
    },
    {
      "cell_type": "code",
      "source": [
        "import os\n",
        "\n",
        "# Collect all image filenames for the small dataset\n",
        "image_dir = './data/small_dataset/images'\n",
        "image_filenames = [f for f in os.listdir(image_dir) if os.path.isfile(os.path.join(image_dir, f))]\n",
        "\n",
        "# Create a DataFrame for image data\n",
        "imagedata_f = pd.DataFrame({'filename': image_filenames})\n",
        "\n",
        "# Display the first few rows\n",
        "print(imagedata_f.head())\n"
      ],
      "metadata": {
        "id": "PocTaQBp7jor"
      },
      "execution_count": null,
      "outputs": []
    },
    {
      "cell_type": "code",
      "source": [
        "import zipfile\n",
        "\n",
        "# Extract the first dataset\n",
        "with zipfile.ZipFile('fashion-product-images-small.zip', 'r') as zip_ref:\n",
        "    zip_ref.extractall('./data/small_dataset')\n",
        "\n",
        "# Extract the second dataset\n",
        "with zipfile.ZipFile('fashion-product-images-dataset.zip', 'r') as zip_ref:\n",
        "    zip_ref.extractall('./data/large_dataset')\n"
      ],
      "metadata": {
        "id": "sfG3H8s23r0F"
      },
      "execution_count": null,
      "outputs": []
    },
    {
      "cell_type": "code",
      "execution_count": null,
      "metadata": {
        "execution": {
          "iopub.execute_input": "2024-03-08T14:16:36.380788Z",
          "iopub.status.busy": "2024-03-08T14:16:36.380452Z",
          "iopub.status.idle": "2024-03-08T14:16:36.385326Z",
          "shell.execute_reply": "2024-03-08T14:16:36.384397Z",
          "shell.execute_reply.started": "2024-03-08T14:16:36.380746Z"
        },
        "trusted": true,
        "id": "algK1udtaIb9"
      },
      "outputs": [],
      "source": [
        "# Assuming imagedata_f and metadata_f are DataFrames containing relevant data\n",
        "# combined_data = pd.concat([imagedata_f, metadata_f], axis=1)\n",
        "\n",
        "# Filter rows where the 'subCategory' column is 'Topwear'\n",
        "# combined_data = combined_data[combined_data['subCategory'] == 'Topwear']\n",
        "\n",
        "# Select only the 'filename' and 'link' columns\n",
        "# new_images = combined_data[['filename', 'link']]\n",
        "\n",
        "# Assuming combined_data is your DataFrame\n",
        "# combined_data['filename'] = combined_data['filename'].str.replace('.jpg', '').astype(float)\n",
        "\n",
        "# Display the updated DataFrame\n",
        "# combined_data\n",
        "\n",
        "# imagedata_f['filename'] = imagedata_f['filename'].str.replace('.jpg', '').astype(float)\n",
        "\n",
        "# combined_data = pd.merge(imagedata_f, metadata_f, left_on='filename', right_on='id', how='inner')\n",
        "\n",
        "# # Drop rows with null values\n",
        "# combined_data = combined_data.dropna()\n",
        "\n",
        "# Display the combined and filtered DataFrame\n"
      ]
    },
    {
      "cell_type": "code",
      "source": [
        "import pandas as pd\n",
        "\n",
        "# Load metadata from the CSV file\n",
        "metadata_f = pd.read_csv('./data/small_dataset/styles.csv')  # Update the path if necessary"
      ],
      "metadata": {
        "id": "zqx9mMpx4S7f"
      },
      "execution_count": null,
      "outputs": []
    },
    {
      "cell_type": "code",
      "execution_count": null,
      "metadata": {
        "execution": {
          "iopub.execute_input": "2024-03-08T14:16:36.386752Z",
          "iopub.status.busy": "2024-03-08T14:16:36.386428Z",
          "iopub.status.idle": "2024-03-08T14:16:36.444442Z",
          "shell.execute_reply": "2024-03-08T14:16:36.443566Z",
          "shell.execute_reply.started": "2024-03-08T14:16:36.386727Z"
        },
        "trusted": true,
        "id": "nJgRVITkaIb9"
      },
      "outputs": [],
      "source": [
        "metadata_f = metadata_f[metadata_f['subCategory'] == 'Topwear']\n",
        "# new_images = combined_data[['filename', 'link']]\n",
        "metadata_f"
      ]
    },
    {
      "cell_type": "markdown",
      "metadata": {
        "id": "lU7R9m-saIb9"
      },
      "source": [
        "## **Process dataset**"
      ]
    },
    {
      "cell_type": "code",
      "execution_count": null,
      "metadata": {
        "execution": {
          "iopub.execute_input": "2024-03-08T14:16:36.446166Z",
          "iopub.status.busy": "2024-03-08T14:16:36.445761Z",
          "iopub.status.idle": "2024-03-08T14:16:36.450531Z",
          "shell.execute_reply": "2024-03-08T14:16:36.449526Z",
          "shell.execute_reply.started": "2024-03-08T14:16:36.446139Z"
        },
        "trusted": true,
        "id": "XeU3LZcEaIb9"
      },
      "outputs": [],
      "source": [
        "SAMPLE_COUNT = 15402"
      ]
    },
    {
      "cell_type": "code",
      "execution_count": null,
      "metadata": {
        "execution": {
          "iopub.execute_input": "2024-03-08T14:16:36.452140Z",
          "iopub.status.busy": "2024-03-08T14:16:36.451803Z",
          "iopub.status.idle": "2024-03-08T14:18:35.465400Z",
          "shell.execute_reply": "2024-03-08T14:18:35.464563Z",
          "shell.execute_reply.started": "2024-03-08T14:16:36.452115Z"
        },
        "trusted": true,
        "id": "4Rye0M15aIb-"
      },
      "outputs": [],
      "source": [
        "BASE_PATH = \"/kaggle/input/fashion-product-images-small/images\"\n",
        "count = 0\n",
        "metdata_rows = []\n",
        "sampled_image_paths = []\n",
        "for index, row in metadata_f.iterrows():\n",
        "\n",
        "    if count == SAMPLE_COUNT:\n",
        "        break\n",
        "\n",
        "    path = f\"{BASE_PATH}/{row.id}.jpg\"\n",
        "    if not os.path.exists(path):\n",
        "        continue\n",
        "\n",
        "    sampled_image_paths.append(Image.open(path))\n",
        "    metdata_rows.append(row)\n",
        "    count = count+1\n",
        "\n",
        "sampled_metadata_df = pd.DataFrame(metdata_rows, columns = metadata_f.columns)"
      ]
    },
    {
      "cell_type": "code",
      "execution_count": null,
      "metadata": {
        "execution": {
          "iopub.execute_input": "2024-03-08T14:18:35.466934Z",
          "iopub.status.busy": "2024-03-08T14:18:35.466590Z",
          "iopub.status.idle": "2024-03-08T14:18:35.477106Z",
          "shell.execute_reply": "2024-03-08T14:18:35.476116Z",
          "shell.execute_reply.started": "2024-03-08T14:18:35.466899Z"
        },
        "trusted": true,
        "id": "v0L5_A6NaIb-"
      },
      "outputs": [],
      "source": [
        "sampled_metadata_df.drop([\"year\"], axis=1, inplace=True)"
      ]
    },
    {
      "cell_type": "code",
      "execution_count": null,
      "metadata": {
        "execution": {
          "iopub.execute_input": "2024-03-08T14:18:35.480470Z",
          "iopub.status.busy": "2024-03-08T14:18:35.480110Z",
          "iopub.status.idle": "2024-03-08T14:18:35.489808Z",
          "shell.execute_reply": "2024-03-08T14:18:35.488979Z",
          "shell.execute_reply.started": "2024-03-08T14:18:35.480444Z"
        },
        "trusted": true,
        "id": "oiapgiyuaIb-"
      },
      "outputs": [],
      "source": [
        "def metadata_as_sentences():\n",
        "    sentences = []\n",
        "\n",
        "    for _, row in sampled_metadata_df.iterrows():\n",
        "        # Join the values of the row except the first value (id)\n",
        "        joined_values = \" \".join([str(i) for i in row.values[1:]])\n",
        "\n",
        "        # Append a tuple containing (id, joined_values) to the sentences list\n",
        "        sentences.append((row['id'], joined_values))\n",
        "\n",
        "    return sentences\n"
      ]
    },
    {
      "cell_type": "code",
      "execution_count": null,
      "metadata": {
        "execution": {
          "iopub.execute_input": "2024-03-08T14:18:35.491356Z",
          "iopub.status.busy": "2024-03-08T14:18:35.491027Z",
          "iopub.status.idle": "2024-03-08T14:18:36.458896Z",
          "shell.execute_reply": "2024-03-08T14:18:36.458108Z",
          "shell.execute_reply.started": "2024-03-08T14:18:35.491324Z"
        },
        "trusted": true,
        "id": "9seF2diHaIb-"
      },
      "outputs": [],
      "source": [
        "metadata_as_sentence = metadata_as_sentences()"
      ]
    },
    {
      "cell_type": "code",
      "execution_count": null,
      "metadata": {
        "execution": {
          "iopub.execute_input": "2024-03-08T14:18:36.461143Z",
          "iopub.status.busy": "2024-03-08T14:18:36.460231Z",
          "iopub.status.idle": "2024-03-08T14:18:36.468471Z",
          "shell.execute_reply": "2024-03-08T14:18:36.467443Z",
          "shell.execute_reply.started": "2024-03-08T14:18:36.461105Z"
        },
        "trusted": true,
        "id": "bWivD-1SaIb-"
      },
      "outputs": [],
      "source": [
        "metadata_as_sentence[0:10]"
      ]
    },
    {
      "cell_type": "code",
      "source": [
        "import matplotlib.pyplot as plt\n",
        "import matplotlib.image as mpimg\n",
        "\n",
        "def display_result(image_paths, metadata_sentences):\n",
        "    \"\"\"\n",
        "    Displays images along with their metadata.\n",
        "\n",
        "    Args:\n",
        "        image_paths (list): List of paths to the sampled images.\n",
        "        metadata_sentences (list): List of metadata descriptions corresponding to the images.\n",
        "    \"\"\"\n",
        "    plt.figure(figsize=(15, 10))\n",
        "    for i, (img_path, metadata) in enumerate(zip(image_paths, metadata_sentences)):\n",
        "        # Load and display the image\n",
        "        img = mpimg.imread(img_path)\n",
        "        plt.subplot(2, 5, i + 1)  # Adjust rows and columns as needed\n",
        "        plt.imshow(img)\n",
        "        plt.axis('off')\n",
        "        plt.title(metadata, fontsize=8)\n",
        "    plt.tight_layout()\n",
        "    plt.show()\n"
      ],
      "metadata": {
        "id": "sBF111Yc8CRR"
      },
      "execution_count": null,
      "outputs": []
    },
    {
      "cell_type": "code",
      "source": [
        "# Example call to display_result\n",
        "display_result(sampled_image_paths[0:10], metadata_as_sentence[0:10])\n"
      ],
      "metadata": {
        "id": "gCvx72SD8EHS"
      },
      "execution_count": null,
      "outputs": []
    },
    {
      "cell_type": "code",
      "execution_count": null,
      "metadata": {
        "execution": {
          "iopub.execute_input": "2024-03-08T14:18:36.491934Z",
          "iopub.status.busy": "2024-03-08T14:18:36.491603Z",
          "iopub.status.idle": "2024-03-08T14:18:36.538520Z",
          "shell.execute_reply": "2024-03-08T14:18:36.537596Z",
          "shell.execute_reply.started": "2024-03-08T14:18:36.491906Z"
        },
        "trusted": true,
        "id": "WjYH9kKdaIb-"
      },
      "outputs": [],
      "source": [
        "display_result(sampled_image_paths[0:10],metadata_as_sentence[0:10])"
      ]
    },
    {
      "cell_type": "markdown",
      "metadata": {
        "id": "wu_cX9araIb-"
      },
      "source": [
        "## Encode data"
      ]
    },
    {
      "cell_type": "code",
      "execution_count": null,
      "metadata": {
        "execution": {
          "iopub.execute_input": "2024-03-08T14:18:36.539941Z",
          "iopub.status.busy": "2024-03-08T14:18:36.539632Z",
          "iopub.status.idle": "2024-03-08T14:18:43.720984Z",
          "shell.execute_reply": "2024-03-08T14:18:43.720089Z",
          "shell.execute_reply.started": "2024-03-08T14:18:36.539916Z"
        },
        "trusted": true,
        "id": "VgQYsy8TaIb-"
      },
      "outputs": [],
      "source": [
        "from sentence_transformers import SentenceTransformer\n",
        "import torch\n",
        "\n",
        "device = 'cuda' if torch.cuda.is_available() else 'cpu'\n",
        "\n",
        "# load a CLIP model from huggingface\n",
        "model = SentenceTransformer(\n",
        "    'sentence-transformers/clip-ViT-B-32',\n",
        "    device=device\n",
        ")\n",
        "model"
      ]
    },
    {
      "cell_type": "markdown",
      "metadata": {
        "id": "yd_85gvzaIb-"
      },
      "source": [
        "#### Encode sparse vector"
      ]
    },
    {
      "cell_type": "code",
      "execution_count": null,
      "metadata": {
        "execution": {
          "iopub.execute_input": "2024-03-08T14:18:43.723121Z",
          "iopub.status.busy": "2024-03-08T14:18:43.722317Z",
          "iopub.status.idle": "2024-03-08T14:18:45.019517Z",
          "shell.execute_reply": "2024-03-08T14:18:45.018250Z",
          "shell.execute_reply.started": "2024-03-08T14:18:43.723084Z"
        },
        "trusted": true,
        "id": "aLm0cji1aIb-"
      },
      "outputs": [],
      "source": [
        "sentence_as_documents = [Document(page_content=value, metadata={\"image_id\": _id}) for _id, value in metadata_as_sentence]\n",
        "bm25_retriever = BM25Retriever.from_documents(sentence_as_documents)"
      ]
    },
    {
      "cell_type": "code",
      "execution_count": null,
      "metadata": {
        "execution": {
          "iopub.execute_input": "2024-03-08T14:18:45.021485Z",
          "iopub.status.busy": "2024-03-08T14:18:45.021099Z"
        },
        "scrolled": true,
        "trusted": true,
        "id": "4b9Bt2dPaIb-"
      },
      "outputs": [],
      "source": [
        "image_dense_embeddings = []\n",
        "\n",
        "for i in tqdm(sampled_image_paths):\n",
        "    image_dense_embeddings.append(model.encode(i))"
      ]
    },
    {
      "cell_type": "markdown",
      "metadata": {
        "id": "6UnbLENSaIb_"
      },
      "source": [
        "#### Encode dense vector"
      ]
    },
    {
      "cell_type": "code",
      "execution_count": null,
      "metadata": {
        "execution": {
          "iopub.execute_input": "2024-03-08T14:34:42.288768Z",
          "iopub.status.busy": "2024-03-08T14:34:42.287965Z",
          "iopub.status.idle": "2024-03-08T14:34:42.293998Z",
          "shell.execute_reply": "2024-03-08T14:34:42.292941Z",
          "shell.execute_reply.started": "2024-03-08T14:34:42.288736Z"
        },
        "scrolled": true,
        "trusted": true,
        "id": "rO7dwWataIb_"
      },
      "outputs": [],
      "source": [
        "print(len(image_dense_embeddings), image_dense_embeddings[0].shape)"
      ]
    },
    {
      "cell_type": "markdown",
      "metadata": {
        "id": "RMdELLyMaIcA"
      },
      "source": [
        "### **Persist in Vector database**"
      ]
    },
    {
      "cell_type": "code",
      "execution_count": null,
      "metadata": {
        "execution": {
          "iopub.execute_input": "2024-03-08T14:34:42.295747Z",
          "iopub.status.busy": "2024-03-08T14:34:42.295456Z",
          "iopub.status.idle": "2024-03-08T14:34:42.477250Z",
          "shell.execute_reply": "2024-03-08T14:34:42.476231Z",
          "shell.execute_reply.started": "2024-03-08T14:34:42.295723Z"
        },
        "trusted": true,
        "id": "dSlKzYiLaIcA"
      },
      "outputs": [],
      "source": [
        "user_secrets = UserSecretsClient()\n",
        "vector_db_key = user_secrets.get_secret(\"vector_db_key\")"
      ]
    },
    {
      "cell_type": "code",
      "execution_count": null,
      "metadata": {
        "execution": {
          "iopub.execute_input": "2024-03-08T14:34:42.479433Z",
          "iopub.status.busy": "2024-03-08T14:34:42.479128Z",
          "iopub.status.idle": "2024-03-08T14:34:42.497310Z",
          "shell.execute_reply": "2024-03-08T14:34:42.496363Z",
          "shell.execute_reply.started": "2024-03-08T14:34:42.479407Z"
        },
        "trusted": true,
        "id": "vhpotcrbaIcA"
      },
      "outputs": [],
      "source": [
        "client = QdrantClient(\n",
        "    url=\"https://763bc1da-0673-4535-91ac-b5538ec0287f.us-east4-0.gcp.cloud.qdrant.io:6333\",\n",
        "    api_key=vector_db_key,\n",
        ") # Persists changes to disk, fast prototyping"
      ]
    },
    {
      "cell_type": "code",
      "execution_count": null,
      "metadata": {
        "execution": {
          "iopub.execute_input": "2024-03-08T15:24:43.162550Z",
          "iopub.status.busy": "2024-03-08T15:24:43.161881Z",
          "iopub.status.idle": "2024-03-08T15:24:43.166617Z",
          "shell.execute_reply": "2024-03-08T15:24:43.165662Z",
          "shell.execute_reply.started": "2024-03-08T15:24:43.162517Z"
        },
        "trusted": true,
        "id": "LhAgtZdFaIcA"
      },
      "outputs": [],
      "source": [
        "COLLECTION_NAME=\"semantic_image_search\""
      ]
    },
    {
      "cell_type": "code",
      "execution_count": null,
      "metadata": {
        "execution": {
          "iopub.execute_input": "2024-03-08T14:34:42.507622Z",
          "iopub.status.busy": "2024-03-08T14:34:42.506867Z",
          "iopub.status.idle": "2024-03-08T14:34:42.719430Z",
          "shell.execute_reply": "2024-03-08T14:34:42.718496Z",
          "shell.execute_reply.started": "2024-03-08T14:34:42.507594Z"
        },
        "trusted": true,
        "id": "CpW8lrjcaIcA"
      },
      "outputs": [],
      "source": [
        "client.delete_collection(COLLECTION_NAME)"
      ]
    },
    {
      "cell_type": "code",
      "execution_count": null,
      "metadata": {
        "execution": {
          "iopub.execute_input": "2024-03-08T14:34:42.720905Z",
          "iopub.status.busy": "2024-03-08T14:34:42.720552Z",
          "iopub.status.idle": "2024-03-08T14:34:42.979076Z",
          "shell.execute_reply": "2024-03-08T14:34:42.978153Z",
          "shell.execute_reply.started": "2024-03-08T14:34:42.720866Z"
        },
        "trusted": true,
        "id": "sUg4bmo2aIcA"
      },
      "outputs": [],
      "source": [
        "client.create_collection(COLLECTION_NAME, vectors_config=VectorParams(size=512,  distance=Distance.COSINE))"
      ]
    },
    {
      "cell_type": "code",
      "execution_count": null,
      "metadata": {
        "execution": {
          "iopub.execute_input": "2024-03-08T14:43:53.628814Z",
          "iopub.status.busy": "2024-03-08T14:43:53.628125Z",
          "iopub.status.idle": "2024-03-08T14:44:03.192713Z",
          "shell.execute_reply": "2024-03-08T14:44:03.191727Z",
          "shell.execute_reply.started": "2024-03-08T14:43:53.628782Z"
        },
        "trusted": true,
        "id": "EYhZOWX-aIcA"
      },
      "outputs": [],
      "source": [
        "vector_line_batch = []\n",
        "for i in tqdm(range(len(sampled_image_paths))):\n",
        "\n",
        "\n",
        "    vector_line_batch.append(\n",
        "        PointStruct(\n",
        "                id=i,\n",
        "                vector=image_dense_embeddings[i].tolist(),\n",
        "                payload={\"metadata\":{\"image_id\": metadata_as_sentence[i][0]}, \"page_content\":metadata_as_sentence[i][1]}\n",
        "            )\n",
        "    )\n",
        "\n",
        "    if i % 100 == 0:\n",
        "\n",
        "        client.upsert(\n",
        "                collection_name=COLLECTION_NAME,\n",
        "                wait=False,\n",
        "                points=vector_line_batch\n",
        "            )\n",
        "        vector_line_batch = []\n",
        "\n",
        "client.upsert(\n",
        "        collection_name=COLLECTION_NAME,\n",
        "        wait=False,\n",
        "        points=vector_line_batch\n",
        "    )"
      ]
    },
    {
      "cell_type": "markdown",
      "metadata": {
        "id": "ptht67bvaIcA"
      },
      "source": [
        "### **Data Retrievers**"
      ]
    },
    {
      "cell_type": "code",
      "execution_count": null,
      "metadata": {
        "execution": {
          "iopub.execute_input": "2024-03-08T15:25:01.488759Z",
          "iopub.status.busy": "2024-03-08T15:25:01.488362Z",
          "iopub.status.idle": "2024-03-08T15:25:02.671014Z",
          "shell.execute_reply": "2024-03-08T15:25:02.670201Z",
          "shell.execute_reply.started": "2024-03-08T15:25:01.488727Z"
        },
        "trusted": true,
        "id": "OXtXhqYOaIcA"
      },
      "outputs": [],
      "source": [
        "from langchain.embeddings import SentenceTransformerEmbeddings\n",
        "embeddings = SentenceTransformerEmbeddings(model_name='sentence-transformers/clip-ViT-B-32')"
      ]
    },
    {
      "cell_type": "code",
      "execution_count": null,
      "metadata": {
        "execution": {
          "iopub.execute_input": "2024-03-08T15:25:08.749090Z",
          "iopub.status.busy": "2024-03-08T15:25:08.748292Z",
          "iopub.status.idle": "2024-03-08T15:25:08.753548Z",
          "shell.execute_reply": "2024-03-08T15:25:08.752475Z",
          "shell.execute_reply.started": "2024-03-08T15:25:08.749055Z"
        },
        "trusted": true,
        "id": "SQedqQd8aIcA"
      },
      "outputs": [],
      "source": [
        "dense_vector_retriever = Qdrant(client, COLLECTION_NAME, embeddings)"
      ]
    },
    {
      "cell_type": "code",
      "execution_count": null,
      "metadata": {
        "trusted": true,
        "id": "3KLgJQe5aIcA"
      },
      "outputs": [],
      "source": [
        "sparse_heavy_retiever = EnsembleRetriever(retrievers=[bm25_retriever, dense_vector_retriever.as_retriever()], weights=[0.8, 0.2])\n",
        "dense_heavy_retiever = EnsembleRetriever(retrievers=[bm25_retriever, dense_vector_retriever.as_retriever()], weights=[0.2, 0.8])\n",
        "neutral_retiever = EnsembleRetriever(retrievers=[bm25_retriever, dense_vector_retriever.as_retriever()], weights=[0.5, 0.5])"
      ]
    },
    {
      "cell_type": "code",
      "execution_count": null,
      "metadata": {
        "trusted": true,
        "id": "-D9HU2dhaIcB"
      },
      "outputs": [],
      "source": [
        "def search_and_show(retirever, query):\n",
        "    search_result1 = retirever.get_relevant_documents(query)\n",
        "    filtered_images, captions = get_results(search_result1)\n",
        "    return display_result(filtered_images, captions)"
      ]
    },
    {
      "cell_type": "code",
      "execution_count": null,
      "metadata": {
        "trusted": true,
        "id": "6QlCAZeeaIcB"
      },
      "outputs": [],
      "source": [
        "SEARCH_QUERY = \"sun colour wear\"\n",
        "search_and_show(neutral_retiever, SEARCH_QUERY)"
      ]
    },
    {
      "cell_type": "code",
      "execution_count": null,
      "metadata": {
        "trusted": true,
        "id": "X2EpZKeGaIcB"
      },
      "outputs": [],
      "source": [
        "search_and_show(sparse_heavy_retiever, SEARCH_QUERY)"
      ]
    },
    {
      "cell_type": "code",
      "execution_count": null,
      "metadata": {
        "trusted": true,
        "id": "xj2u5V_caIcB"
      },
      "outputs": [],
      "source": [
        "search_and_show(dense_heavy_retiever, SEARCH_QUERY)"
      ]
    },
    {
      "cell_type": "code",
      "execution_count": null,
      "metadata": {
        "execution": {
          "iopub.execute_input": "2024-03-08T15:25:27.609242Z",
          "iopub.status.busy": "2024-03-08T15:25:27.608551Z",
          "iopub.status.idle": "2024-03-08T15:25:27.735440Z",
          "shell.execute_reply": "2024-03-08T15:25:27.734557Z",
          "shell.execute_reply.started": "2024-03-08T15:25:27.609211Z"
        },
        "trusted": true,
        "id": "DYHPATuzaIcB"
      },
      "outputs": [],
      "source": [
        "SEARCH_QUERY2 = \"Blue clothes for men\"\n",
        "\n",
        "search_result2 = dense_vector_retriever.as_retriever().get_relevant_documents(SEARCH_QUERY2)\n",
        "filtered_images2 = get_results(search_result2)\n",
        "# display_result(filtered_images2, captions2)\n",
        "print(filtered_images2)"
      ]
    },
    {
      "cell_type": "code",
      "execution_count": null,
      "metadata": {
        "execution": {
          "iopub.execute_input": "2024-03-08T14:37:58.769207Z",
          "iopub.status.busy": "2024-03-08T14:37:58.768535Z",
          "iopub.status.idle": "2024-03-08T14:38:00.261663Z",
          "shell.execute_reply": "2024-03-08T14:38:00.260510Z",
          "shell.execute_reply.started": "2024-03-08T14:37:58.769175Z"
        },
        "trusted": true,
        "id": "IKTxcxqjaIcB"
      },
      "outputs": [],
      "source": [
        "my_fashion.loc[2832]\n",
        "metadata_f.loc[2832]\n",
        "sampled_metadata_df.loc[2832]"
      ]
    },
    {
      "cell_type": "markdown",
      "metadata": {
        "id": "_9Y9Sg1oaIcB"
      },
      "source": [
        "## Util methods"
      ]
    },
    {
      "cell_type": "code",
      "execution_count": null,
      "metadata": {
        "execution": {
          "iopub.execute_input": "2024-03-08T14:18:36.470393Z",
          "iopub.status.busy": "2024-03-08T14:18:36.470028Z",
          "iopub.status.idle": "2024-03-08T14:18:36.479231Z",
          "shell.execute_reply": "2024-03-08T14:18:36.478373Z",
          "shell.execute_reply.started": "2024-03-08T14:18:36.470360Z"
        },
        "trusted": true,
        "id": "Fzx-vQ9AaIcC"
      },
      "outputs": [],
      "source": [
        "from IPython.core.display import HTML\n",
        "from io import BytesIO\n",
        "from base64 import b64encode\n",
        "\n",
        "# function to display product images\n",
        "def display_result(image_batch, caption_batch):\n",
        "    figures = []\n",
        "    for i in range(len(caption_batch)):\n",
        "\n",
        "        img = image_batch[i]\n",
        "        caption = caption_batch[i]\n",
        "\n",
        "        b = BytesIO()\n",
        "        img.save(b, format='png')\n",
        "        figures.append(f'''\n",
        "            <figure style=\"margin: 5px !important;\">\n",
        "\n",
        "              <img src=\"data:image/png;base64,{b64encode(b.getvalue()).decode('utf-8')}\" style=\"width: 90px; height: 120px\" ></br>\n",
        "              <span style=\"display:block; width:150px; word-wrap:break-word;\"> {caption} </span>\n",
        "            </figure>\n",
        "        ''')\n",
        "    return HTML(data=f'''\n",
        "        <div style=\"display: flex; flex-flow: row wrap; text-align: center;\">\n",
        "        {''.join(figures)}\n",
        "        </div>\n",
        "    ''')"
      ]
    },
    {
      "cell_type": "code",
      "execution_count": null,
      "metadata": {
        "execution": {
          "iopub.execute_input": "2024-03-08T14:47:33.328471Z",
          "iopub.status.busy": "2024-03-08T14:47:33.328077Z",
          "iopub.status.idle": "2024-03-08T14:47:33.333976Z",
          "shell.execute_reply": "2024-03-08T14:47:33.332904Z",
          "shell.execute_reply.started": "2024-03-08T14:47:33.328439Z"
        },
        "trusted": true,
        "id": "D-QUXidvaIcC"
      },
      "outputs": [],
      "source": [
        "def get_results(search_results):\n",
        "    filtered_img_ids = [doc.metadata.get(\"image_id\") for doc in search_results]\n",
        "#     filtered_images = [sampled_image_paths[_id] for _id in filtered_img_ids]\n",
        "    print(filtered_img_ids)\n",
        "\n",
        "#     captions = [doc.page_content for doc in search_results]\n",
        "    return filtered_img_ids"
      ]
    },
    {
      "cell_type": "code",
      "execution_count": null,
      "metadata": {
        "id": "rFUphbwDaIcC"
      },
      "outputs": [],
      "source": []
    }
  ],
  "metadata": {
    "kaggle": {
      "accelerator": "nvidiaTeslaT4",
      "dataSources": [
        {
          "datasetId": 139630,
          "sourceId": 329006,
          "sourceType": "datasetVersion"
        },
        {
          "datasetId": 175990,
          "sourceId": 396802,
          "sourceType": "datasetVersion"
        },
        {
          "datasetId": 4560929,
          "sourceId": 7791609,
          "sourceType": "datasetVersion"
        }
      ],
      "isGpuEnabled": true,
      "isInternetEnabled": true,
      "language": "python",
      "sourceType": "notebook"
    },
    "kernelspec": {
      "display_name": "Python 3",
      "language": "python",
      "name": "python3"
    },
    "language_info": {
      "codemirror_mode": {
        "name": "ipython",
        "version": 3
      },
      "file_extension": ".py",
      "mimetype": "text/x-python",
      "name": "python",
      "nbconvert_exporter": "python",
      "pygments_lexer": "ipython3",
      "version": "3.10.13"
    },
    "colab": {
      "provenance": []
    }
  },
  "nbformat": 4,
  "nbformat_minor": 0
}
